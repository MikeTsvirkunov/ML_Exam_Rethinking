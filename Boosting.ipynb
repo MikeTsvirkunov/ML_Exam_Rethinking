{
 "cells": [
  {
   "cell_type": "code",
   "execution_count": 20,
   "metadata": {},
   "outputs": [],
   "source": [
    "from catboost import CatBoostClassifier\n",
    "import pandas as pd\n",
    "import matplotlib.pyplot as plt\n",
    "import numpy as np\n",
    "from sklearn.model_selection import train_test_split\n",
    "from sklearn.metrics import accuracy_score, confusion_matrix, classification_report, roc_curve, RocCurveDisplay, auc\n"
   ]
  },
  {
   "cell_type": "code",
   "execution_count": 81,
   "metadata": {},
   "outputs": [
    {
     "data": {
      "text/plain": [
       "((790444, 111), (790444,))"
      ]
     },
     "execution_count": 81,
     "metadata": {},
     "output_type": "execute_result"
    }
   ],
   "source": [
    "data = pd.read_csv('Data/smoted_data_with_sm_embendings.csv')\n",
    "X_train, X_test, y_train, y_test = train_test_split(data.drop('State', axis=1), data['State'], test_size=0.2, random_state=42)\n",
    "X_train.shape, y_train.shape\n"
   ]
  },
  {
   "cell_type": "code",
   "execution_count": 91,
   "metadata": {},
   "outputs": [],
   "source": [
    "cbc = CatBoostClassifier(learning_rate=0.01,\n",
    "                         task_type=\"GPU\",\n",
    "                         devices='0:4',\n",
    "                         logging_level='Silent',\n",
    "                         eval_metric =  'TotalF1',\n",
    "                         )\n"
   ]
  },
  {
   "cell_type": "code",
   "execution_count": 92,
   "metadata": {},
   "outputs": [
    {
     "name": "stdout",
     "output_type": "stream",
     "text": [
      "0:\tloss: 0.8153131\tbest: 0.8153131 (0)\ttotal: 20.8s\tremaining: 28m 49s\n",
      "1:\tloss: 0.8160018\tbest: 0.8160018 (1)\ttotal: 41.2s\tremaining: 28m 11s\n",
      "2:\tloss: 0.0664009\tbest: 0.8160018 (1)\ttotal: 47.5s\tremaining: 21m 21s\n",
      "3:\tloss: 0.8154288\tbest: 0.8160018 (1)\ttotal: 1m 7s\tremaining: 22m 35s\n",
      "4:\tloss: 0.8156570\tbest: 0.8160018 (1)\ttotal: 1m 28s\tremaining: 23m 14s\n",
      "5:\tloss: 0.0664009\tbest: 0.8160018 (1)\ttotal: 1m 34s\tremaining: 20m 25s\n",
      "6:\tloss: 0.8152880\tbest: 0.8160018 (1)\ttotal: 1m 54s\tremaining: 21m 1s\n",
      "7:\tloss: 0.8152856\tbest: 0.8160018 (1)\ttotal: 2m 15s\tremaining: 21m 23s\n",
      "8:\tloss: 0.0664009\tbest: 0.8160018 (1)\ttotal: 2m 21s\tremaining: 19m 41s\n",
      "9:\tloss: 0.8157930\tbest: 0.8160018 (1)\ttotal: 2m 42s\tremaining: 20m 1s\n",
      "10:\tloss: 0.8154890\tbest: 0.8160018 (1)\ttotal: 3m 2s\tremaining: 20m 14s\n",
      "11:\tloss: 0.0664009\tbest: 0.8160018 (1)\ttotal: 3m 9s\tremaining: 18m 56s\n",
      "12:\tloss: 0.8385699\tbest: 0.8385699 (12)\ttotal: 3m 33s\tremaining: 19m 27s\n",
      "13:\tloss: 0.8382484\tbest: 0.8385699 (12)\ttotal: 3m 58s\tremaining: 19m 51s\n",
      "14:\tloss: 0.0664009\tbest: 0.8385699 (12)\ttotal: 4m 4s\tremaining: 18m 45s\n",
      "15:\tloss: 0.8387602\tbest: 0.8387602 (15)\ttotal: 4m 28s\tremaining: 19m 3s\n",
      "16:\tloss: 0.8387268\tbest: 0.8387602 (15)\ttotal: 4m 53s\tremaining: 19m 17s\n",
      "17:\tloss: 0.0664009\tbest: 0.8387602 (15)\ttotal: 4m 59s\tremaining: 18m 19s\n",
      "18:\tloss: 0.8383908\tbest: 0.8387602 (15)\ttotal: 5m 24s\tremaining: 18m 29s\n",
      "19:\tloss: 0.8383111\tbest: 0.8387602 (15)\ttotal: 5m 48s\tremaining: 18m 36s\n",
      "20:\tloss: 0.0664009\tbest: 0.8387602 (15)\ttotal: 5m 55s\tremaining: 17m 45s\n",
      "21:\tloss: 0.8382559\tbest: 0.8387602 (15)\ttotal: 6m 19s\tremaining: 17m 50s\n",
      "22:\tloss: 0.8384140\tbest: 0.8387602 (15)\ttotal: 6m 44s\tremaining: 17m 52s\n",
      "23:\tloss: 0.0664009\tbest: 0.8387602 (15)\ttotal: 6m 51s\tremaining: 17m 7s\n",
      "24:\tloss: 0.8559064\tbest: 0.8559064 (24)\ttotal: 7m 20s\tremaining: 17m 19s\n",
      "25:\tloss: 0.8557409\tbest: 0.8559064 (24)\ttotal: 7m 49s\tremaining: 17m 28s\n",
      "26:\tloss: 0.0664009\tbest: 0.8559064 (24)\ttotal: 7m 56s\tremaining: 16m 45s\n",
      "27:\tloss: 0.8557665\tbest: 0.8559064 (24)\ttotal: 8m 25s\tremaining: 16m 51s\n",
      "28:\tloss: 0.8555141\tbest: 0.8559064 (24)\ttotal: 8m 54s\tremaining: 16m 54s\n",
      "29:\tloss: 0.0664009\tbest: 0.8559064 (24)\ttotal: 9m 1s\tremaining: 16m 13s\n",
      "30:\tloss: 0.8557812\tbest: 0.8559064 (24)\ttotal: 9m 30s\tremaining: 16m 14s\n",
      "31:\tloss: 0.8551034\tbest: 0.8559064 (24)\ttotal: 9m 59s\tremaining: 16m 14s\n",
      "32:\tloss: 0.0664009\tbest: 0.8559064 (24)\ttotal: 10m 6s\tremaining: 15m 36s\n",
      "33:\tloss: 0.8556547\tbest: 0.8559064 (24)\ttotal: 10m 35s\tremaining: 15m 34s\n",
      "34:\tloss: 0.8554665\tbest: 0.8559064 (24)\ttotal: 11m 4s\tremaining: 15m 30s\n",
      "35:\tloss: 0.0664009\tbest: 0.8559064 (24)\ttotal: 11m 11s\tremaining: 14m 55s\n",
      "36:\tloss: 0.8729750\tbest: 0.8729750 (36)\ttotal: 11m 45s\tremaining: 14m 56s\n",
      "37:\tloss: 0.8727379\tbest: 0.8729750 (36)\ttotal: 12m 19s\tremaining: 14m 55s\n",
      "38:\tloss: 0.0664009\tbest: 0.8729750 (36)\ttotal: 12m 26s\tremaining: 14m 20s\n",
      "39:\tloss: 0.8724823\tbest: 0.8729750 (36)\ttotal: 13m\tremaining: 14m 18s\n",
      "40:\tloss: 0.8727154\tbest: 0.8729750 (36)\ttotal: 13m 35s\tremaining: 14m 14s\n",
      "41:\tloss: 0.0664009\tbest: 0.8729750 (36)\ttotal: 13m 41s\tremaining: 13m 41s\n",
      "42:\tloss: 0.8724589\tbest: 0.8729750 (36)\ttotal: 14m 15s\tremaining: 13m 35s\n",
      "43:\tloss: 0.8725366\tbest: 0.8729750 (36)\ttotal: 14m 50s\tremaining: 13m 29s\n",
      "44:\tloss: 0.0664009\tbest: 0.8729750 (36)\ttotal: 14m 56s\tremaining: 12m 57s\n",
      "45:\tloss: 0.8721221\tbest: 0.8729750 (36)\ttotal: 15m 31s\tremaining: 12m 49s\n",
      "46:\tloss: 0.8727608\tbest: 0.8729750 (36)\ttotal: 16m 5s\tremaining: 12m 40s\n",
      "47:\tloss: 0.0664009\tbest: 0.8729750 (36)\ttotal: 16m 12s\tremaining: 12m 9s\n",
      "48:\tloss: 0.8859095\tbest: 0.8859095 (48)\ttotal: 16m 53s\tremaining: 12m 4s\n",
      "49:\tloss: 0.8864635\tbest: 0.8864635 (49)\ttotal: 17m 35s\tremaining: 11m 57s\n",
      "50:\tloss: 0.0664009\tbest: 0.8864635 (49)\ttotal: 17m 42s\tremaining: 11m 27s\n",
      "51:\tloss: 0.8855878\tbest: 0.8864635 (49)\ttotal: 18m 23s\tremaining: 11m 19s\n",
      "52:\tloss: 0.8861152\tbest: 0.8864635 (49)\ttotal: 19m 5s\tremaining: 11m 9s\n",
      "53:\tloss: 0.0664009\tbest: 0.8864635 (49)\ttotal: 19m 11s\tremaining: 10m 39s\n",
      "54:\tloss: 0.8856074\tbest: 0.8864635 (49)\ttotal: 19m 52s\tremaining: 10m 28s\n",
      "55:\tloss: 0.8858632\tbest: 0.8864635 (49)\ttotal: 20m 34s\tremaining: 10m 17s\n",
      "56:\tloss: 0.0664009\tbest: 0.8864635 (49)\ttotal: 20m 41s\tremaining: 9m 47s\n",
      "57:\tloss: 0.8852806\tbest: 0.8864635 (49)\ttotal: 21m 22s\tremaining: 9m 34s\n",
      "58:\tloss: 0.8861248\tbest: 0.8864635 (49)\ttotal: 22m 4s\tremaining: 9m 21s\n",
      "59:\tloss: 0.0664009\tbest: 0.8864635 (49)\ttotal: 22m 10s\tremaining: 8m 52s\n",
      "60:\tloss: 0.8979849\tbest: 0.8979849 (60)\ttotal: 23m 2s\tremaining: 8m 41s\n",
      "61:\tloss: 0.8983001\tbest: 0.8983001 (61)\ttotal: 23m 54s\tremaining: 8m 29s\n",
      "62:\tloss: 0.0664009\tbest: 0.8983001 (61)\ttotal: 24m\tremaining: 8m\n",
      "63:\tloss: 0.8977813\tbest: 0.8983001 (61)\ttotal: 24m 53s\tremaining: 7m 46s\n",
      "64:\tloss: 0.8980598\tbest: 0.8983001 (61)\ttotal: 25m 45s\tremaining: 7m 31s\n",
      "65:\tloss: 0.0664009\tbest: 0.8983001 (61)\ttotal: 25m 52s\tremaining: 7m 3s\n",
      "66:\tloss: 0.8978997\tbest: 0.8983001 (61)\ttotal: 26m 44s\tremaining: 6m 47s\n",
      "67:\tloss: 0.8977475\tbest: 0.8983001 (61)\ttotal: 27m 36s\tremaining: 6m 29s\n",
      "68:\tloss: 0.0664009\tbest: 0.8983001 (61)\ttotal: 27m 42s\tremaining: 6m 1s\n",
      "69:\tloss: 0.8972370\tbest: 0.8983001 (61)\ttotal: 28m 35s\tremaining: 5m 43s\n",
      "70:\tloss: 0.8973813\tbest: 0.8983001 (61)\ttotal: 29m 27s\tremaining: 5m 23s\n",
      "71:\tloss: 0.0664009\tbest: 0.8983001 (61)\ttotal: 29m 33s\tremaining: 4m 55s\n",
      "72:\tloss: 0.9104466\tbest: 0.9104466 (72)\ttotal: 30m 42s\tremaining: 4m 37s\n",
      "73:\tloss: 0.9110092\tbest: 0.9110092 (73)\ttotal: 31m 50s\tremaining: 4m 18s\n",
      "74:\tloss: 0.0664009\tbest: 0.9110092 (73)\ttotal: 31m 57s\tremaining: 3m 50s\n",
      "75:\tloss: 0.9099936\tbest: 0.9110092 (73)\ttotal: 33m 5s\tremaining: 3m 29s\n",
      "76:\tloss: 0.9099259\tbest: 0.9110092 (73)\ttotal: 34m 13s\tremaining: 3m 6s\n",
      "77:\tloss: 0.0664009\tbest: 0.9110092 (73)\ttotal: 34m 20s\tremaining: 2m 38s\n",
      "78:\tloss: 0.9088639\tbest: 0.9110092 (73)\ttotal: 35m 29s\tremaining: 2m 14s\n",
      "79:\tloss: 0.9093412\tbest: 0.9110092 (73)\ttotal: 36m 37s\tremaining: 1m 49s\n",
      "80:\tloss: 0.0664009\tbest: 0.9110092 (73)\ttotal: 36m 44s\tremaining: 1m 21s\n",
      "81:\tloss: 0.9086338\tbest: 0.9110092 (73)\ttotal: 37m 51s\tremaining: 55.4s\n",
      "82:\tloss: 0.9089789\tbest: 0.9110092 (73)\ttotal: 39m\tremaining: 28.2s\n",
      "83:\tloss: 0.0664009\tbest: 0.9110092 (73)\ttotal: 39m 7s\tremaining: 0us\n",
      "Estimating final quality...\n"
     ]
    },
    {
     "data": {
      "text/plain": [
       "{'depth': 9, 'l2_leaf_reg': 1, 'bootstrap_type': 'Bernoulli'}"
      ]
     },
     "execution_count": 92,
     "metadata": {},
     "output_type": "execute_result"
    }
   ],
   "source": [
    "params = {'depth': np.arange(3, 10),\n",
    "          'l2_leaf_reg': np.arange(1, 5),\n",
    "          'bootstrap_type': ['Bayesian', 'Bernoulli', 'Poisson'],\n",
    "          # 'leaf_estimation_method': [],\n",
    "          # \"loss_function\": \"F1\",\n",
    "          # 'num_trees': np.arange(1, 20),\n",
    "            # 'n_estimators': np.arange(3, 20),\n",
    "          #   'num_boost_round': np.arange(1, 20),\n",
    "          }\n",
    "catboost_classifier_best_params = cbc.grid_search(\n",
    "    params, X=X_train, y=y_train)\n",
    "\n",
    "catboost_classifier_best_params['params']\n"
   ]
  },
  {
   "cell_type": "code",
   "execution_count": 93,
   "metadata": {},
   "outputs": [
    {
     "data": {
      "text/plain": [
       "<catboost.core.CatBoostClassifier at 0x16499566580>"
      ]
     },
     "execution_count": 93,
     "metadata": {},
     "output_type": "execute_result"
    }
   ],
   "source": [
    "cbc.fit(X_train, y_train)\n"
   ]
  },
  {
   "cell_type": "code",
   "execution_count": 94,
   "metadata": {},
   "outputs": [
    {
     "data": {
      "text/plain": [
       "array([[1],\n",
       "       [2],\n",
       "       [4],\n",
       "       ...,\n",
       "       [4],\n",
       "       [1],\n",
       "       [3]], dtype=int64)"
      ]
     },
     "execution_count": 94,
     "metadata": {},
     "output_type": "execute_result"
    }
   ],
   "source": [
    "cbc_predict = cbc.predict(X_test)\n",
    "cbc_predict\n"
   ]
  },
  {
   "cell_type": "code",
   "execution_count": 95,
   "metadata": {},
   "outputs": [
    {
     "name": "stdout",
     "output_type": "stream",
     "text": [
      "Precision, Recall, F\n",
      "               precision    recall  f1-score   support\n",
      "\n",
      "           0       0.87      0.94      0.90     39688\n",
      "           1       0.90      0.98      0.94     39403\n",
      "           2       0.90      0.78      0.84     39397\n",
      "           3       0.90      0.87      0.88     39403\n",
      "           4       1.00      1.00      1.00     39720\n",
      "\n",
      "    accuracy                           0.91    197611\n",
      "   macro avg       0.91      0.91      0.91    197611\n",
      "weighted avg       0.91      0.91      0.91    197611\n",
      "\n"
     ]
    }
   ],
   "source": [
    "print('Precision, Recall, F\\n', classification_report(y_test, cbc_predict))"
   ]
  },
  {
   "cell_type": "code",
   "execution_count": null,
   "metadata": {},
   "outputs": [
    {
     "name": "stdout",
     "output_type": "stream",
     "text": [
      "Precision, Recall, F\n",
      "               precision    recall  f1-score   support\n",
      "\n",
      "           0       0.87      0.94      0.90     39688\n",
      "           1       0.90      0.98      0.94     39403\n",
      "           2       0.90      0.78      0.84     39397\n",
      "           3       0.90      0.87      0.88     39403\n",
      "           4       1.00      1.00      1.00     39720\n",
      "\n",
      "    accuracy                           0.91    197611\n",
      "   macro avg       0.91      0.91      0.91    197611\n",
      "weighted avg       0.91      0.91      0.91    197611\n",
      "\n"
     ]
    }
   ],
   "source": [
    "print('Precision, Recall, F\\n', classification_report(y_test, cbc_predict))"
   ]
  },
  {
   "cell_type": "code",
   "execution_count": 96,
   "metadata": {},
   "outputs": [
    {
     "data": {
      "text/plain": [
       "['Data/CatBoostClassifier.sav']"
      ]
     },
     "execution_count": 96,
     "metadata": {},
     "output_type": "execute_result"
    }
   ],
   "source": [
    "import joblib\n",
    "joblib.dump(cbc, 'Data/CatBoostClassifier.sav')"
   ]
  }
 ],
 "metadata": {
  "kernelspec": {
   "display_name": "KickstarterProjects",
   "language": "python",
   "name": "python3"
  },
  "language_info": {
   "codemirror_mode": {
    "name": "ipython",
    "version": 3
   },
   "file_extension": ".py",
   "mimetype": "text/x-python",
   "name": "python",
   "nbconvert_exporter": "python",
   "pygments_lexer": "ipython3",
   "version": "3.9.2"
  },
  "orig_nbformat": 4
 },
 "nbformat": 4,
 "nbformat_minor": 2
}
