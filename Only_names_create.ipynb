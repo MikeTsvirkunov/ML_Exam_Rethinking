{
 "cells": [
  {
   "cell_type": "code",
   "execution_count": 7,
   "metadata": {},
   "outputs": [],
   "source": [
    "import pandas as pd\n",
    "import numpy as np\n",
    "from imblearn.under_sampling import RandomUnderSampler\n"
   ]
  },
  {
   "cell_type": "code",
   "execution_count": 6,
   "metadata": {},
   "outputs": [],
   "source": [
    "data_with_sm_embendings = pd.read_csv(\"Data/smoted_data_with_sm_embendings.csv\")\n",
    "x_with_sm_embendings = data_with_sm_embendings.drop('State', axis=1)\n",
    "y_with_sm_embendings = data_with_sm_embendings['State']\n"
   ]
  },
  {
   "cell_type": "code",
   "execution_count": 8,
   "metadata": {},
   "outputs": [],
   "source": [
    "nomed = RandomUnderSampler(random_state=42)\n",
    "x_res, y_res = nomed.fit_resample(x_with_sm_embendings, y_with_sm_embendings)\n"
   ]
  },
  {
   "cell_type": "code",
   "execution_count": 13,
   "metadata": {},
   "outputs": [],
   "source": [
    "x_res = x_res.drop(['Day_launched', 'Year_launched', 'Month_launched',\n",
    "            'Hours_launched', 'Category', 'Subcategory', \n",
    "            'Country', 'Goal', 'Pledged', 'Backers', \n",
    "            'Minutes_launched', 'Seconds_launched',\n",
    "            'Year_deadline', 'Month_deadline', 'Day_deadline'], axis=1)\n"
   ]
  },
  {
   "cell_type": "code",
   "execution_count": 14,
   "metadata": {},
   "outputs": [],
   "source": [
    "randomundersampled_data_normed = pd.concat([x_res, y_res], axis=1)\n"
   ]
  },
  {
   "cell_type": "code",
   "execution_count": null,
   "metadata": {},
   "outputs": [],
   "source": [
    "randomundersampled_data_normed.to_csv(\n",
    "    'Data/only_names.csv', index=False)\n"
   ]
  }
 ],
 "metadata": {
  "kernelspec": {
   "display_name": "KickstarterProjects",
   "language": "python",
   "name": "python3"
  },
  "language_info": {
   "codemirror_mode": {
    "name": "ipython",
    "version": 3
   },
   "file_extension": ".py",
   "mimetype": "text/x-python",
   "name": "python",
   "nbconvert_exporter": "python",
   "pygments_lexer": "ipython3",
   "version": "3.9.2"
  },
  "orig_nbformat": 4
 },
 "nbformat": 4,
 "nbformat_minor": 2
}
