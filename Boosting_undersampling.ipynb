{
 "cells": [
  {
   "cell_type": "code",
   "execution_count": 1,
   "metadata": {},
   "outputs": [],
   "source": [
    "from catboost import CatBoostClassifier\n",
    "import pandas as pd\n",
    "import matplotlib.pyplot as plt\n",
    "import numpy as np\n",
    "from sklearn.model_selection import train_test_split\n",
    "from sklearn.metrics import accuracy_score, confusion_matrix, classification_report, roc_curve, RocCurveDisplay, auc\n"
   ]
  },
  {
   "cell_type": "code",
   "execution_count": 2,
   "metadata": {},
   "outputs": [
    {
     "data": {
      "text/plain": [
       "((7368, 111), (7368,))"
      ]
     },
     "execution_count": 2,
     "metadata": {},
     "output_type": "execute_result"
    }
   ],
   "source": [
    "data = pd.read_csv('Data/randomundersampled_data_with_sm_embendings.csv')\n",
    "X_train, X_test, y_train, y_test = train_test_split(data.drop('State', axis=1), data['State'], test_size=0.2, random_state=42)\n",
    "X_train.shape, y_train.shape\n"
   ]
  },
  {
   "cell_type": "code",
   "execution_count": 3,
   "metadata": {},
   "outputs": [],
   "source": [
    "cbc = CatBoostClassifier(learning_rate=0.01,\n",
    "                         task_type=\"GPU\",\n",
    "                         devices='0:4',\n",
    "                         logging_level='Silent',\n",
    "                         eval_metric =  'TotalF1',\n",
    "                         )\n"
   ]
  },
  {
   "cell_type": "code",
   "execution_count": 4,
   "metadata": {},
   "outputs": [
    {
     "name": "stdout",
     "output_type": "stream",
     "text": [
      "0:\tloss: 0.7566668\tbest: 0.7566668 (0)\ttotal: 7.75s\tremaining: 10m 43s\n",
      "1:\tloss: 0.7542144\tbest: 0.7566668 (0)\ttotal: 19.1s\tremaining: 13m 2s\n",
      "2:\tloss: 0.0622516\tbest: 0.7566668 (0)\ttotal: 24.9s\tremaining: 11m 11s\n",
      "3:\tloss: 0.7559899\tbest: 0.7566668 (0)\ttotal: 36.1s\tremaining: 12m 1s\n",
      "4:\tloss: 0.7558740\tbest: 0.7566668 (0)\ttotal: 47.9s\tremaining: 12m 36s\n",
      "5:\tloss: 0.0622516\tbest: 0.7566668 (0)\ttotal: 53.6s\tremaining: 11m 36s\n",
      "6:\tloss: 0.7588917\tbest: 0.7588917 (6)\ttotal: 1m 4s\tremaining: 11m 54s\n",
      "7:\tloss: 0.7530950\tbest: 0.7588917 (6)\ttotal: 1m 16s\tremaining: 12m 7s\n",
      "8:\tloss: 0.0622516\tbest: 0.7588917 (6)\ttotal: 1m 22s\tremaining: 11m 26s\n",
      "9:\tloss: 0.7560673\tbest: 0.7588917 (6)\ttotal: 1m 33s\tremaining: 11m 33s\n",
      "10:\tloss: 0.7537685\tbest: 0.7588917 (6)\ttotal: 1m 45s\tremaining: 11m 38s\n",
      "11:\tloss: 0.0622516\tbest: 0.7588917 (6)\ttotal: 1m 50s\tremaining: 11m 5s\n",
      "12:\tloss: 0.7702466\tbest: 0.7702466 (12)\ttotal: 2m 3s\tremaining: 11m 11s\n",
      "13:\tloss: 0.7694214\tbest: 0.7702466 (12)\ttotal: 2m 15s\tremaining: 11m 16s\n",
      "14:\tloss: 0.0622516\tbest: 0.7702466 (12)\ttotal: 2m 21s\tremaining: 10m 49s\n",
      "15:\tloss: 0.7685617\tbest: 0.7702466 (12)\ttotal: 2m 33s\tremaining: 10m 51s\n",
      "16:\tloss: 0.7685368\tbest: 0.7702466 (12)\ttotal: 2m 45s\tremaining: 10m 50s\n",
      "17:\tloss: 0.0622516\tbest: 0.7702466 (12)\ttotal: 2m 50s\tremaining: 10m 26s\n",
      "18:\tloss: 0.7685996\tbest: 0.7702466 (12)\ttotal: 3m 2s\tremaining: 10m 25s\n",
      "19:\tloss: 0.7660728\tbest: 0.7702466 (12)\ttotal: 3m 14s\tremaining: 10m 23s\n",
      "20:\tloss: 0.0622516\tbest: 0.7702466 (12)\ttotal: 3m 20s\tremaining: 10m 2s\n",
      "21:\tloss: 0.7672909\tbest: 0.7702466 (12)\ttotal: 3m 32s\tremaining: 9m 59s\n",
      "22:\tloss: 0.7675527\tbest: 0.7702466 (12)\ttotal: 3m 44s\tremaining: 9m 56s\n",
      "23:\tloss: 0.0622516\tbest: 0.7702466 (12)\ttotal: 3m 50s\tremaining: 9m 36s\n",
      "24:\tloss: 0.7819984\tbest: 0.7819984 (24)\ttotal: 4m 3s\tremaining: 9m 34s\n",
      "25:\tloss: 0.7811037\tbest: 0.7819984 (24)\ttotal: 4m 16s\tremaining: 9m 31s\n",
      "26:\tloss: 0.0622516\tbest: 0.7819984 (24)\ttotal: 4m 21s\tremaining: 9m 12s\n",
      "27:\tloss: 0.7812927\tbest: 0.7819984 (24)\ttotal: 4m 34s\tremaining: 9m 8s\n",
      "28:\tloss: 0.7801322\tbest: 0.7819984 (24)\ttotal: 4m 46s\tremaining: 9m 3s\n",
      "29:\tloss: 0.0622516\tbest: 0.7819984 (24)\ttotal: 4m 52s\tremaining: 8m 46s\n",
      "30:\tloss: 0.7783821\tbest: 0.7819984 (24)\ttotal: 5m 4s\tremaining: 8m 40s\n",
      "31:\tloss: 0.7775732\tbest: 0.7819984 (24)\ttotal: 5m 17s\tremaining: 8m 36s\n",
      "32:\tloss: 0.0622516\tbest: 0.7819984 (24)\ttotal: 5m 23s\tremaining: 8m 19s\n",
      "33:\tloss: 0.7775107\tbest: 0.7819984 (24)\ttotal: 5m 35s\tremaining: 8m 13s\n",
      "34:\tloss: 0.7767781\tbest: 0.7819984 (24)\ttotal: 5m 48s\tremaining: 8m 7s\n",
      "35:\tloss: 0.0622516\tbest: 0.7819984 (24)\ttotal: 5m 54s\tremaining: 7m 52s\n",
      "36:\tloss: 0.7883494\tbest: 0.7883494 (36)\ttotal: 6m 7s\tremaining: 7m 47s\n",
      "37:\tloss: 0.7868943\tbest: 0.7883494 (36)\ttotal: 6m 21s\tremaining: 7m 42s\n",
      "38:\tloss: 0.0622516\tbest: 0.7883494 (36)\ttotal: 6m 26s\tremaining: 7m 26s\n",
      "39:\tloss: 0.7846214\tbest: 0.7883494 (36)\ttotal: 6m 40s\tremaining: 7m 20s\n",
      "40:\tloss: 0.7852179\tbest: 0.7883494 (36)\ttotal: 6m 54s\tremaining: 7m 14s\n",
      "41:\tloss: 0.0622516\tbest: 0.7883494 (36)\ttotal: 6m 59s\tremaining: 6m 59s\n",
      "42:\tloss: 0.7876805\tbest: 0.7883494 (36)\ttotal: 7m 12s\tremaining: 6m 52s\n",
      "43:\tloss: 0.7877478\tbest: 0.7883494 (36)\ttotal: 7m 26s\tremaining: 6m 46s\n",
      "44:\tloss: 0.0622516\tbest: 0.7883494 (36)\ttotal: 7m 31s\tremaining: 6m 31s\n",
      "45:\tloss: 0.7847238\tbest: 0.7883494 (36)\ttotal: 7m 45s\tremaining: 6m 24s\n",
      "46:\tloss: 0.7892613\tbest: 0.7892613 (46)\ttotal: 7m 59s\tremaining: 6m 17s\n",
      "47:\tloss: 0.0622516\tbest: 0.7892613 (46)\ttotal: 8m 4s\tremaining: 6m 3s\n",
      "48:\tloss: 0.7911787\tbest: 0.7911787 (48)\ttotal: 8m 20s\tremaining: 5m 57s\n",
      "49:\tloss: 0.7929725\tbest: 0.7929725 (49)\ttotal: 8m 37s\tremaining: 5m 51s\n",
      "50:\tloss: 0.0622516\tbest: 0.7929725 (49)\ttotal: 8m 41s\tremaining: 5m 37s\n",
      "51:\tloss: 0.7899297\tbest: 0.7929725 (49)\ttotal: 8m 58s\tremaining: 5m 31s\n",
      "52:\tloss: 0.7870800\tbest: 0.7929725 (49)\ttotal: 9m 14s\tremaining: 5m 24s\n",
      "53:\tloss: 0.0622516\tbest: 0.7929725 (49)\ttotal: 9m 19s\tremaining: 5m 10s\n",
      "54:\tloss: 0.7897874\tbest: 0.7929725 (49)\ttotal: 9m 35s\tremaining: 5m 3s\n",
      "55:\tloss: 0.7906680\tbest: 0.7929725 (49)\ttotal: 9m 52s\tremaining: 4m 56s\n",
      "56:\tloss: 0.0622516\tbest: 0.7929725 (49)\ttotal: 9m 56s\tremaining: 4m 42s\n",
      "57:\tloss: 0.7912382\tbest: 0.7929725 (49)\ttotal: 10m 13s\tremaining: 4m 35s\n",
      "58:\tloss: 0.7935285\tbest: 0.7935285 (58)\ttotal: 10m 30s\tremaining: 4m 27s\n",
      "59:\tloss: 0.0622516\tbest: 0.7935285 (58)\ttotal: 10m 34s\tremaining: 4m 13s\n",
      "60:\tloss: 0.7949468\tbest: 0.7949468 (60)\ttotal: 10m 58s\tremaining: 4m 8s\n",
      "61:\tloss: 0.7960694\tbest: 0.7960694 (61)\ttotal: 11m 21s\tremaining: 4m 1s\n",
      "62:\tloss: 0.0622516\tbest: 0.7960694 (61)\ttotal: 11m 26s\tremaining: 3m 48s\n",
      "63:\tloss: 0.7927833\tbest: 0.7960694 (61)\ttotal: 11m 49s\tremaining: 3m 41s\n",
      "64:\tloss: 0.7946541\tbest: 0.7960694 (61)\ttotal: 12m 13s\tremaining: 3m 34s\n",
      "65:\tloss: 0.0622516\tbest: 0.7960694 (61)\ttotal: 12m 17s\tremaining: 3m 21s\n",
      "66:\tloss: 0.7941860\tbest: 0.7960694 (61)\ttotal: 12m 41s\tremaining: 3m 13s\n",
      "67:\tloss: 0.7937883\tbest: 0.7960694 (61)\ttotal: 13m 4s\tremaining: 3m 4s\n",
      "68:\tloss: 0.0622516\tbest: 0.7960694 (61)\ttotal: 13m 9s\tremaining: 2m 51s\n",
      "69:\tloss: 0.7911321\tbest: 0.7960694 (61)\ttotal: 13m 33s\tremaining: 2m 42s\n",
      "70:\tloss: 0.7939288\tbest: 0.7960694 (61)\ttotal: 13m 56s\tremaining: 2m 33s\n",
      "71:\tloss: 0.0622516\tbest: 0.7960694 (61)\ttotal: 14m 1s\tremaining: 2m 20s\n",
      "72:\tloss: 0.7870609\tbest: 0.7960694 (61)\ttotal: 14m 37s\tremaining: 2m 12s\n",
      "73:\tloss: 0.7848076\tbest: 0.7960694 (61)\ttotal: 15m 12s\tremaining: 2m 3s\n",
      "74:\tloss: 0.0622516\tbest: 0.7960694 (61)\ttotal: 15m 17s\tremaining: 1m 50s\n",
      "75:\tloss: 0.7854088\tbest: 0.7960694 (61)\ttotal: 15m 53s\tremaining: 1m 40s\n",
      "76:\tloss: 0.7905690\tbest: 0.7960694 (61)\ttotal: 16m 29s\tremaining: 1m 29s\n",
      "77:\tloss: 0.0622516\tbest: 0.7960694 (61)\ttotal: 16m 34s\tremaining: 1m 16s\n",
      "78:\tloss: 0.7841521\tbest: 0.7960694 (61)\ttotal: 17m 10s\tremaining: 1m 5s\n",
      "79:\tloss: 0.7888555\tbest: 0.7960694 (61)\ttotal: 17m 45s\tremaining: 53.3s\n",
      "80:\tloss: 0.0622516\tbest: 0.7960694 (61)\ttotal: 17m 50s\tremaining: 39.7s\n",
      "81:\tloss: 0.7862709\tbest: 0.7960694 (61)\ttotal: 18m 26s\tremaining: 27s\n",
      "82:\tloss: 0.7872602\tbest: 0.7960694 (61)\ttotal: 19m 2s\tremaining: 13.8s\n",
      "83:\tloss: 0.0622516\tbest: 0.7960694 (61)\ttotal: 19m 7s\tremaining: 0us\n",
      "Estimating final quality...\n"
     ]
    },
    {
     "data": {
      "text/plain": [
       "{'depth': 8, 'l2_leaf_reg': 1, 'bootstrap_type': 'Bernoulli'}"
      ]
     },
     "execution_count": 4,
     "metadata": {},
     "output_type": "execute_result"
    }
   ],
   "source": [
    "params = {'depth': np.arange(3, 10),\n",
    "          'l2_leaf_reg': np.arange(1, 5),\n",
    "          'bootstrap_type': ['Bayesian', 'Bernoulli', 'Poisson'],\n",
    "          # 'leaf_estimation_method': [],\n",
    "          # \"loss_function\": \"F1\",\n",
    "          # 'num_trees': np.arange(1, 20),\n",
    "            # 'n_estimators': np.arange(3, 20),\n",
    "          #   'num_boost_round': np.arange(1, 20),\n",
    "          }\n",
    "catboost_classifier_best_params = cbc.grid_search(\n",
    "    params, X=X_train, y=y_train)\n",
    "\n",
    "catboost_classifier_best_params['params']\n"
   ]
  },
  {
   "cell_type": "code",
   "execution_count": 7,
   "metadata": {},
   "outputs": [
    {
     "data": {
      "text/plain": [
       "<catboost.core.CatBoostClassifier at 0x2158c3e8940>"
      ]
     },
     "execution_count": 7,
     "metadata": {},
     "output_type": "execute_result"
    }
   ],
   "source": [
    "cbc.fit(X_train, y_train)\n"
   ]
  },
  {
   "cell_type": "code",
   "execution_count": 8,
   "metadata": {},
   "outputs": [
    {
     "data": {
      "text/plain": [
       "array([[0],\n",
       "       [1],\n",
       "       [4],\n",
       "       ...,\n",
       "       [2],\n",
       "       [4],\n",
       "       [4]], dtype=int64)"
      ]
     },
     "execution_count": 8,
     "metadata": {},
     "output_type": "execute_result"
    }
   ],
   "source": [
    "cbc_predict = cbc.predict(X_test)\n",
    "cbc_predict\n"
   ]
  },
  {
   "cell_type": "code",
   "execution_count": 9,
   "metadata": {},
   "outputs": [
    {
     "name": "stdout",
     "output_type": "stream",
     "text": [
      "Precision, Recall, F\n",
      "               precision    recall  f1-score   support\n",
      "\n",
      "           0       0.65      0.76      0.70       386\n",
      "           1       0.81      0.95      0.88       361\n",
      "           2       0.74      0.59      0.65       381\n",
      "           3       0.76      0.64      0.70       348\n",
      "           4       0.99      1.00      0.99       366\n",
      "\n",
      "    accuracy                           0.79      1842\n",
      "   macro avg       0.79      0.79      0.79      1842\n",
      "weighted avg       0.79      0.79      0.78      1842\n",
      "\n"
     ]
    }
   ],
   "source": [
    "print('Precision, Recall, F\\n', classification_report(y_test, cbc_predict))"
   ]
  },
  {
   "cell_type": "code",
   "execution_count": 10,
   "metadata": {},
   "outputs": [
    {
     "name": "stdout",
     "output_type": "stream",
     "text": [
      "Precision, Recall, F\n",
      "               precision    recall  f1-score   support\n",
      "\n",
      "           0       0.65      0.76      0.70       386\n",
      "           1       0.81      0.95      0.88       361\n",
      "           2       0.74      0.59      0.65       381\n",
      "           3       0.76      0.64      0.70       348\n",
      "           4       0.99      1.00      0.99       366\n",
      "\n",
      "    accuracy                           0.79      1842\n",
      "   macro avg       0.79      0.79      0.79      1842\n",
      "weighted avg       0.79      0.79      0.78      1842\n",
      "\n"
     ]
    }
   ],
   "source": [
    "print('Precision, Recall, F\\n', classification_report(y_test, cbc_predict))"
   ]
  },
  {
   "cell_type": "code",
   "execution_count": 11,
   "metadata": {},
   "outputs": [
    {
     "data": {
      "text/plain": [
       "['Data/CatBoostClassifierDown.sav']"
      ]
     },
     "execution_count": 11,
     "metadata": {},
     "output_type": "execute_result"
    }
   ],
   "source": [
    "import joblib\n",
    "joblib.dump(cbc, 'Data/CatBoostClassifierDown.sav')"
   ]
  }
 ],
 "metadata": {
  "kernelspec": {
   "display_name": "KickstarterProjects",
   "language": "python",
   "name": "python3"
  },
  "language_info": {
   "codemirror_mode": {
    "name": "ipython",
    "version": 3
   },
   "file_extension": ".py",
   "mimetype": "text/x-python",
   "name": "python",
   "nbconvert_exporter": "python",
   "pygments_lexer": "ipython3",
   "version": "3.9.2"
  },
  "orig_nbformat": 4
 },
 "nbformat": 4,
 "nbformat_minor": 2
}
