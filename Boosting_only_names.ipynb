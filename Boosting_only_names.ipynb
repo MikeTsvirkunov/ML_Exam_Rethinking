{
 "cells": [
  {
   "cell_type": "code",
   "execution_count": 1,
   "metadata": {},
   "outputs": [],
   "source": [
    "from catboost import CatBoostClassifier\n",
    "import pandas as pd\n",
    "import matplotlib.pyplot as plt\n",
    "import numpy as np\n",
    "from sklearn.model_selection import train_test_split\n",
    "from sklearn.metrics import accuracy_score, confusion_matrix, classification_report, roc_curve, RocCurveDisplay, auc\n"
   ]
  },
  {
   "cell_type": "code",
   "execution_count": 2,
   "metadata": {},
   "outputs": [
    {
     "data": {
      "text/plain": [
       "((790444, 96), (790444,))"
      ]
     },
     "execution_count": 2,
     "metadata": {},
     "output_type": "execute_result"
    }
   ],
   "source": [
    "data = pd.read_csv('Data/only_names.csv')\n",
    "X_train, X_test, y_train, y_test = train_test_split(data.drop('State', axis=1), data['State'], test_size=0.2, random_state=42)\n",
    "X_train.shape, y_train.shape\n"
   ]
  },
  {
   "cell_type": "code",
   "execution_count": 3,
   "metadata": {},
   "outputs": [],
   "source": [
    "cbc = CatBoostClassifier(learning_rate=0.01,\n",
    "                         task_type=\"GPU\",\n",
    "                         devices='0:4',\n",
    "                         logging_level='Silent',\n",
    "                         eval_metric =  'TotalF1',\n",
    "                         )\n"
   ]
  },
  {
   "cell_type": "code",
   "execution_count": 4,
   "metadata": {},
   "outputs": [
    {
     "name": "stdout",
     "output_type": "stream",
     "text": [
      "0:\tloss: 0.4941453\tbest: 0.4941453 (0)\ttotal: 18.9s\tremaining: 26m 10s\n",
      "1:\tloss: 0.4942803\tbest: 0.4942803 (1)\ttotal: 37.4s\tremaining: 25m 31s\n",
      "2:\tloss: 0.0664125\tbest: 0.4942803 (1)\ttotal: 43.4s\tremaining: 19m 32s\n",
      "3:\tloss: 0.4941884\tbest: 0.4942803 (1)\ttotal: 1m 1s\tremaining: 20m 33s\n",
      "4:\tloss: 0.4944817\tbest: 0.4944817 (4)\ttotal: 1m 20s\tremaining: 21m 8s\n",
      "5:\tloss: 0.0664125\tbest: 0.4944817 (4)\ttotal: 1m 26s\tremaining: 18m 42s\n",
      "6:\tloss: 0.4943793\tbest: 0.4944817 (4)\ttotal: 1m 44s\tremaining: 19m 11s\n",
      "7:\tloss: 0.4944616\tbest: 0.4944817 (4)\ttotal: 2m 3s\tremaining: 19m 31s\n",
      "8:\tloss: 0.0664125\tbest: 0.4944817 (4)\ttotal: 2m 9s\tremaining: 17m 59s\n",
      "9:\tloss: 0.4939338\tbest: 0.4944817 (4)\ttotal: 2m 27s\tremaining: 18m 15s\n",
      "10:\tloss: 0.4946758\tbest: 0.4946758 (10)\ttotal: 2m 46s\tremaining: 18m 26s\n",
      "11:\tloss: 0.0664125\tbest: 0.4946758 (10)\ttotal: 2m 52s\tremaining: 17m 17s\n",
      "12:\tloss: 0.5163211\tbest: 0.5163211 (12)\ttotal: 3m 15s\tremaining: 17m 45s\n",
      "13:\tloss: 0.5155387\tbest: 0.5163211 (12)\ttotal: 3m 37s\tremaining: 18m 7s\n",
      "14:\tloss: 0.0664125\tbest: 0.5163211 (12)\ttotal: 3m 43s\tremaining: 17m 8s\n",
      "15:\tloss: 0.5157918\tbest: 0.5163211 (12)\ttotal: 4m 5s\tremaining: 17m 25s\n",
      "16:\tloss: 0.5158569\tbest: 0.5163211 (12)\ttotal: 4m 28s\tremaining: 17m 37s\n",
      "17:\tloss: 0.0664125\tbest: 0.5163211 (12)\ttotal: 4m 34s\tremaining: 16m 46s\n",
      "18:\tloss: 0.5169268\tbest: 0.5169268 (18)\ttotal: 4m 56s\tremaining: 16m 55s\n",
      "19:\tloss: 0.5160972\tbest: 0.5169268 (18)\ttotal: 5m 19s\tremaining: 17m 2s\n",
      "20:\tloss: 0.0664125\tbest: 0.5169268 (18)\ttotal: 5m 25s\tremaining: 16m 17s\n",
      "21:\tloss: 0.5157706\tbest: 0.5169268 (18)\ttotal: 5m 48s\tremaining: 16m 21s\n",
      "22:\tloss: 0.5158250\tbest: 0.5169268 (18)\ttotal: 6m 10s\tremaining: 16m 23s\n",
      "23:\tloss: 0.0664125\tbest: 0.5169268 (18)\ttotal: 6m 16s\tremaining: 15m 41s\n",
      "24:\tloss: 0.5372401\tbest: 0.5372401 (24)\ttotal: 6m 43s\tremaining: 15m 51s\n",
      "25:\tloss: 0.5375057\tbest: 0.5375057 (25)\ttotal: 7m 10s\tremaining: 15m 59s\n",
      "26:\tloss: 0.0664125\tbest: 0.5375057 (25)\ttotal: 7m 16s\tremaining: 15m 21s\n",
      "27:\tloss: 0.5366752\tbest: 0.5375057 (25)\ttotal: 7m 42s\tremaining: 15m 25s\n",
      "28:\tloss: 0.5376158\tbest: 0.5376158 (28)\ttotal: 8m 9s\tremaining: 15m 29s\n",
      "29:\tloss: 0.0664125\tbest: 0.5376158 (28)\ttotal: 8m 16s\tremaining: 14m 53s\n",
      "30:\tloss: 0.5369699\tbest: 0.5376158 (28)\ttotal: 8m 42s\tremaining: 14m 53s\n",
      "31:\tloss: 0.5367273\tbest: 0.5376158 (28)\ttotal: 9m 9s\tremaining: 14m 53s\n",
      "32:\tloss: 0.0664125\tbest: 0.5376158 (28)\ttotal: 9m 16s\tremaining: 14m 19s\n",
      "33:\tloss: 0.5367797\tbest: 0.5376158 (28)\ttotal: 9m 42s\tremaining: 14m 17s\n",
      "34:\tloss: 0.5369655\tbest: 0.5376158 (28)\ttotal: 10m 9s\tremaining: 14m 13s\n",
      "35:\tloss: 0.0664125\tbest: 0.5376158 (28)\ttotal: 10m 16s\tremaining: 13m 41s\n",
      "36:\tloss: 0.5603836\tbest: 0.5603836 (36)\ttotal: 10m 48s\tremaining: 13m 43s\n",
      "37:\tloss: 0.5604412\tbest: 0.5604412 (37)\ttotal: 11m 21s\tremaining: 13m 44s\n",
      "38:\tloss: 0.0664125\tbest: 0.5604412 (37)\ttotal: 11m 27s\tremaining: 13m 13s\n",
      "39:\tloss: 0.5601273\tbest: 0.5604412 (37)\ttotal: 11m 59s\tremaining: 13m 11s\n",
      "40:\tloss: 0.5610252\tbest: 0.5610252 (40)\ttotal: 12m 32s\tremaining: 13m 9s\n",
      "41:\tloss: 0.0664125\tbest: 0.5610252 (40)\ttotal: 12m 38s\tremaining: 12m 38s\n",
      "42:\tloss: 0.5598903\tbest: 0.5610252 (40)\ttotal: 13m 11s\tremaining: 12m 34s\n",
      "43:\tloss: 0.5599227\tbest: 0.5610252 (40)\ttotal: 13m 43s\tremaining: 12m 29s\n",
      "44:\tloss: 0.0664125\tbest: 0.5610252 (40)\ttotal: 13m 50s\tremaining: 11m 59s\n",
      "45:\tloss: 0.5601727\tbest: 0.5610252 (40)\ttotal: 14m 22s\tremaining: 11m 52s\n",
      "46:\tloss: 0.5600771\tbest: 0.5610252 (40)\ttotal: 14m 55s\tremaining: 11m 44s\n",
      "47:\tloss: 0.0664125\tbest: 0.5610252 (40)\ttotal: 15m 1s\tremaining: 11m 16s\n",
      "48:\tloss: 0.5891036\tbest: 0.5891036 (48)\ttotal: 15m 41s\tremaining: 11m 12s\n",
      "49:\tloss: 0.5885854\tbest: 0.5891036 (48)\ttotal: 16m 22s\tremaining: 11m 7s\n",
      "50:\tloss: 0.0664125\tbest: 0.5891036 (48)\ttotal: 16m 28s\tremaining: 10m 39s\n",
      "51:\tloss: 0.5880047\tbest: 0.5891036 (48)\ttotal: 17m 8s\tremaining: 10m 32s\n",
      "52:\tloss: 0.5883707\tbest: 0.5891036 (48)\ttotal: 17m 48s\tremaining: 10m 25s\n",
      "53:\tloss: 0.0664125\tbest: 0.5891036 (48)\ttotal: 17m 54s\tremaining: 9m 57s\n",
      "54:\tloss: 0.5873146\tbest: 0.5891036 (48)\ttotal: 18m 34s\tremaining: 9m 47s\n",
      "55:\tloss: 0.5872354\tbest: 0.5891036 (48)\ttotal: 19m 14s\tremaining: 9m 37s\n",
      "56:\tloss: 0.0664125\tbest: 0.5891036 (48)\ttotal: 19m 21s\tremaining: 9m 9s\n",
      "57:\tloss: 0.5868054\tbest: 0.5891036 (48)\ttotal: 20m\tremaining: 8m 58s\n",
      "58:\tloss: 0.5873346\tbest: 0.5891036 (48)\ttotal: 20m 40s\tremaining: 8m 45s\n",
      "59:\tloss: 0.0664125\tbest: 0.5891036 (48)\ttotal: 20m 46s\tremaining: 8m 18s\n",
      "60:\tloss: 0.6223860\tbest: 0.6223860 (60)\ttotal: 21m 38s\tremaining: 8m 9s\n",
      "61:\tloss: 0.6217772\tbest: 0.6223860 (60)\ttotal: 22m 29s\tremaining: 7m 58s\n",
      "62:\tloss: 0.0664125\tbest: 0.6223860 (60)\ttotal: 22m 36s\tremaining: 7m 32s\n",
      "63:\tloss: 0.6209786\tbest: 0.6223860 (60)\ttotal: 23m 27s\tremaining: 7m 19s\n",
      "64:\tloss: 0.6208851\tbest: 0.6223860 (60)\ttotal: 24m 18s\tremaining: 7m 6s\n",
      "65:\tloss: 0.0664125\tbest: 0.6223860 (60)\ttotal: 24m 25s\tremaining: 6m 39s\n",
      "66:\tloss: 0.6194212\tbest: 0.6223860 (60)\ttotal: 25m 16s\tremaining: 6m 24s\n",
      "67:\tloss: 0.6198350\tbest: 0.6223860 (60)\ttotal: 26m 9s\tremaining: 6m 9s\n",
      "68:\tloss: 0.0664125\tbest: 0.6223860 (60)\ttotal: 26m 16s\tremaining: 5m 42s\n",
      "69:\tloss: 0.6183089\tbest: 0.6223860 (60)\ttotal: 27m 8s\tremaining: 5m 25s\n",
      "70:\tloss: 0.6184402\tbest: 0.6223860 (60)\ttotal: 28m\tremaining: 5m 7s\n",
      "71:\tloss: 0.0664125\tbest: 0.6223860 (60)\ttotal: 28m 6s\tremaining: 4m 41s\n",
      "72:\tloss: 0.6603946\tbest: 0.6603946 (72)\ttotal: 29m 16s\tremaining: 4m 24s\n",
      "73:\tloss: 0.6604268\tbest: 0.6604268 (73)\ttotal: 30m 26s\tremaining: 4m 6s\n",
      "74:\tloss: 0.0664125\tbest: 0.6604268 (73)\ttotal: 30m 33s\tremaining: 3m 40s\n",
      "75:\tloss: 0.6577422\tbest: 0.6604268 (73)\ttotal: 31m 43s\tremaining: 3m 20s\n",
      "76:\tloss: 0.6574664\tbest: 0.6604268 (73)\ttotal: 32m 53s\tremaining: 2m 59s\n",
      "77:\tloss: 0.0664125\tbest: 0.6604268 (73)\ttotal: 33m\tremaining: 2m 32s\n",
      "78:\tloss: 0.6553803\tbest: 0.6604268 (73)\ttotal: 34m 9s\tremaining: 2m 9s\n",
      "79:\tloss: 0.6547970\tbest: 0.6604268 (73)\ttotal: 35m 19s\tremaining: 1m 45s\n",
      "80:\tloss: 0.0664125\tbest: 0.6604268 (73)\ttotal: 35m 26s\tremaining: 1m 18s\n",
      "81:\tloss: 0.6530278\tbest: 0.6604268 (73)\ttotal: 36m 36s\tremaining: 53.6s\n",
      "82:\tloss: 0.6526249\tbest: 0.6604268 (73)\ttotal: 37m 48s\tremaining: 27.3s\n",
      "83:\tloss: 0.0664125\tbest: 0.6604268 (73)\ttotal: 37m 55s\tremaining: 0us\n",
      "Estimating final quality...\n"
     ]
    },
    {
     "data": {
      "text/plain": [
       "{'depth': 9, 'l2_leaf_reg': 1, 'bootstrap_type': 'Bernoulli'}"
      ]
     },
     "execution_count": 4,
     "metadata": {},
     "output_type": "execute_result"
    }
   ],
   "source": [
    "params = {'depth': np.arange(3, 10),\n",
    "          'l2_leaf_reg': np.arange(1, 5),\n",
    "          'bootstrap_type': ['Bayesian', 'Bernoulli', 'Poisson'],\n",
    "          # 'leaf_estimation_method': [],\n",
    "          # \"loss_function\": \"F1\",\n",
    "          # 'num_trees': np.arange(1, 20),\n",
    "            # 'n_estimators': np.arange(3, 20),\n",
    "          #   'num_boost_round': np.arange(1, 20),\n",
    "          }\n",
    "catboost_classifier_best_params = cbc.grid_search(\n",
    "    params, X=X_train, y=y_train)\n",
    "\n",
    "catboost_classifier_best_params['params']\n"
   ]
  },
  {
   "cell_type": "code",
   "execution_count": 7,
   "metadata": {},
   "outputs": [
    {
     "data": {
      "text/plain": [
       "<catboost.core.CatBoostClassifier at 0x1eb814ceb20>"
      ]
     },
     "execution_count": 7,
     "metadata": {},
     "output_type": "execute_result"
    }
   ],
   "source": [
    "cbc.fit(X_train, y_train)\n"
   ]
  },
  {
   "cell_type": "code",
   "execution_count": 8,
   "metadata": {},
   "outputs": [
    {
     "data": {
      "text/plain": [
       "array([[0],\n",
       "       [2],\n",
       "       [1],\n",
       "       ...,\n",
       "       [4],\n",
       "       [0],\n",
       "       [3]], dtype=int64)"
      ]
     },
     "execution_count": 8,
     "metadata": {},
     "output_type": "execute_result"
    }
   ],
   "source": [
    "cbc_predict = cbc.predict(X_test)\n",
    "cbc_predict\n"
   ]
  },
  {
   "cell_type": "code",
   "execution_count": 9,
   "metadata": {},
   "outputs": [
    {
     "name": "stdout",
     "output_type": "stream",
     "text": [
      "Precision, Recall, F\n",
      "               precision    recall  f1-score   support\n",
      "\n",
      "           0       0.52      0.54      0.53     39544\n",
      "           1       0.47      0.44      0.46     39476\n",
      "           2       0.89      0.60      0.72     39472\n",
      "           3       0.89      0.86      0.88     39367\n",
      "           4       0.63      0.86      0.73     39752\n",
      "\n",
      "    accuracy                           0.66    197611\n",
      "   macro avg       0.68      0.66      0.66    197611\n",
      "weighted avg       0.68      0.66      0.66    197611\n",
      "\n"
     ]
    }
   ],
   "source": [
    "print('Precision, Recall, F\\n', classification_report(y_test, cbc_predict))"
   ]
  },
  {
   "cell_type": "code",
   "execution_count": 10,
   "metadata": {},
   "outputs": [
    {
     "name": "stdout",
     "output_type": "stream",
     "text": [
      "Precision, Recall, F\n",
      "               precision    recall  f1-score   support\n",
      "\n",
      "           0       0.52      0.54      0.53     39544\n",
      "           1       0.47      0.44      0.46     39476\n",
      "           2       0.89      0.60      0.72     39472\n",
      "           3       0.89      0.86      0.88     39367\n",
      "           4       0.63      0.86      0.73     39752\n",
      "\n",
      "    accuracy                           0.66    197611\n",
      "   macro avg       0.68      0.66      0.66    197611\n",
      "weighted avg       0.68      0.66      0.66    197611\n",
      "\n"
     ]
    }
   ],
   "source": [
    "print('Precision, Recall, F\\n', classification_report(y_test, cbc_predict))"
   ]
  }
 ],
 "metadata": {
  "kernelspec": {
   "display_name": "KickstarterProjects",
   "language": "python",
   "name": "python3"
  },
  "language_info": {
   "codemirror_mode": {
    "name": "ipython",
    "version": 3
   },
   "file_extension": ".py",
   "mimetype": "text/x-python",
   "name": "python",
   "nbconvert_exporter": "python",
   "pygments_lexer": "ipython3",
   "version": "3.9.2"
  },
  "orig_nbformat": 4
 },
 "nbformat": 4,
 "nbformat_minor": 2
}
